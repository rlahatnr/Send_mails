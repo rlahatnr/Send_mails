{
 "cells": [
  {
   "cell_type": "code",
   "execution_count": 1,
   "metadata": {},
   "outputs": [
    {
     "name": "stderr",
     "output_type": "stream",
     "text": [
      "send: 'ehlo [192.168.197.1]\\r\\n'\n",
      "reply: b'250-smtp.naver.com Pleased to meet you\\r\\n'\n",
      "reply: b'250-SIZE 20971520\\r\\n'\n",
      "reply: b'250-8BITMIME\\r\\n'\n",
      "reply: b'250-PIPELINING\\r\\n'\n",
      "reply: b'250-STARTTLS\\r\\n'\n",
      "reply: b'250-AUTH PLAIN LOGIN\\r\\n'\n",
      "reply: b'250 ENHANCEDSTATUSCODES\\r\\n'\n",
      "reply: retcode (250); Msg: b'smtp.naver.com Pleased to meet you\\nSIZE 20971520\\n8BITMIME\\nPIPELINING\\nSTARTTLS\\nAUTH PLAIN LOGIN\\nENHANCEDSTATUSCODES'\n",
      "send: 'STARTTLS\\r\\n'\n",
      "reply: b'220 2.0.0 Ready to start TLS sygMYmZqT4eyIF72eszwlA - nsmtp\\r\\n'\n",
      "reply: retcode (220); Msg: b'2.0.0 Ready to start TLS sygMYmZqT4eyIF72eszwlA - nsmtp'\n",
      "send: 'ehlo [192.168.197.1]\\r\\n'\n",
      "reply: b'250-smtp.naver.com Pleased to meet you\\r\\n'\n",
      "reply: b'250-SIZE 20971520\\r\\n'\n",
      "reply: b'250-8BITMIME\\r\\n'\n",
      "reply: b'250-PIPELINING\\r\\n'\n",
      "reply: b'250-AUTH PLAIN LOGIN\\r\\n'\n",
      "reply: b'250 ENHANCEDSTATUSCODES\\r\\n'\n",
      "reply: retcode (250); Msg: b'smtp.naver.com Pleased to meet you\\nSIZE 20971520\\n8BITMIME\\nPIPELINING\\nAUTH PLAIN LOGIN\\nENHANCEDSTATUSCODES'\n",
      "send: 'AUTH PLAIN AGNyb3dkcGFydGlAbmF2ZXIuY29tAGVvcWtyMjAyMSQhJCE=\\r\\n'\n",
      "reply: b'235 2.7.0 Accepted sygMYmZqT4eyIF72eszwlA - nsmtp\\r\\n'\n",
      "reply: retcode (235); Msg: b'2.7.0 Accepted sygMYmZqT4eyIF72eszwlA - nsmtp'\n",
      "send: 'mail FROM:<crowdparti@naver.com> size=439\\r\\n'\n",
      "reply: b'250 2.1.0 OK sygMYmZqT4eyIF72eszwlA - nsmtp\\r\\n'\n",
      "reply: retcode (250); Msg: b'2.1.0 OK sygMYmZqT4eyIF72eszwlA - nsmtp'\n",
      "send: 'rcpt TO:<rlahatnr@naver.com>\\r\\n'\n",
      "reply: b'250 2.1.5 OK sygMYmZqT4eyIF72eszwlA - nsmtp\\r\\n'\n",
      "reply: retcode (250); Msg: b'2.1.5 OK sygMYmZqT4eyIF72eszwlA - nsmtp'\n",
      "send: 'data\\r\\n'\n",
      "reply: b'354 Go ahead sygMYmZqT4eyIF72eszwlA - nsmtp\\r\\n'\n",
      "reply: retcode (354); Msg: b'Go ahead sygMYmZqT4eyIF72eszwlA - nsmtp'\n",
      "data: (354, b'Go ahead sygMYmZqT4eyIF72eszwlA - nsmtp')\n",
      "send: b'MIME-Version: 1.0\\r\\nContent-Type: multipart/alternative; charset=\"utf-8\"; boundary=\"===============1747178589596981877==\"\\r\\nContent-Transfer-Encoding: base64\\r\\nFrom: crowdparti@naver.com\\r\\nTo: rlahatnr@naver.com\\r\\nSubject: test\\r\\n\\r\\n--===============1747178589596981877==\\r\\nContent-Type: text/plain; charset=\"utf-8\"\\r\\nMIME-Version: 1.0\\r\\nContent-Transfer-Encoding: base64\\r\\n\\r\\nc2V0c2V0c2UKc2V0ZXN0c2V0cw==\\r\\n\\r\\n--===============1747178589596981877==--\\r\\n.\\r\\n'\n",
      "reply: b'250 2.0.0 OK sygMYmZqT4eyIF72eszwlA - nsmtp\\r\\n'\n",
      "reply: retcode (250); Msg: b'2.0.0 OK sygMYmZqT4eyIF72eszwlA - nsmtp'\n",
      "data: (250, b'2.0.0 OK sygMYmZqT4eyIF72eszwlA - nsmtp')\n"
     ]
    },
    {
     "name": "stdout",
     "output_type": "stream",
     "text": [
      "Successfully sent the mail\n"
     ]
    },
    {
     "name": "stderr",
     "output_type": "stream",
     "text": [
      "send: 'ehlo [192.168.197.1]\\r\\n'\n",
      "reply: b'250-smtp.naver.com Pleased to meet you\\r\\n'\n",
      "reply: b'250-SIZE 20971520\\r\\n'\n",
      "reply: b'250-8BITMIME\\r\\n'\n",
      "reply: b'250-PIPELINING\\r\\n'\n",
      "reply: b'250-STARTTLS\\r\\n'\n",
      "reply: b'250-AUTH PLAIN LOGIN\\r\\n'\n",
      "reply: b'250 ENHANCEDSTATUSCODES\\r\\n'\n",
      "reply: retcode (250); Msg: b'smtp.naver.com Pleased to meet you\\nSIZE 20971520\\n8BITMIME\\nPIPELINING\\nSTARTTLS\\nAUTH PLAIN LOGIN\\nENHANCEDSTATUSCODES'\n",
      "send: 'STARTTLS\\r\\n'\n",
      "reply: b'220 2.0.0 Ready to start TLS EKm0WDFiTBu53oqbHztwdw - nsmtp\\r\\n'\n",
      "reply: retcode (220); Msg: b'2.0.0 Ready to start TLS EKm0WDFiTBu53oqbHztwdw - nsmtp'\n",
      "send: 'ehlo [192.168.197.1]\\r\\n'\n",
      "reply: b'250-smtp.naver.com Pleased to meet you\\r\\n'\n",
      "reply: b'250-SIZE 20971520\\r\\n'\n",
      "reply: b'250-8BITMIME\\r\\n'\n",
      "reply: b'250-PIPELINING\\r\\n'\n",
      "reply: b'250-AUTH PLAIN LOGIN\\r\\n'\n",
      "reply: b'250 ENHANCEDSTATUSCODES\\r\\n'\n",
      "reply: retcode (250); Msg: b'smtp.naver.com Pleased to meet you\\nSIZE 20971520\\n8BITMIME\\nPIPELINING\\nAUTH PLAIN LOGIN\\nENHANCEDSTATUSCODES'\n",
      "send: 'AUTH PLAIN AGNyb3dkcGFydGlAbmF2ZXIuY29tAGVvcWtyMjAyMSQhJCE=\\r\\n'\n",
      "reply: b'235 2.7.0 Accepted EKm0WDFiTBu53oqbHztwdw - nsmtp\\r\\n'\n",
      "reply: retcode (235); Msg: b'2.7.0 Accepted EKm0WDFiTBu53oqbHztwdw - nsmtp'\n",
      "send: 'mail FROM:<crowdparti@naver.com> size=439\\r\\n'\n",
      "reply: b'250 2.1.0 OK EKm0WDFiTBu53oqbHztwdw - nsmtp\\r\\n'\n",
      "reply: retcode (250); Msg: b'2.1.0 OK EKm0WDFiTBu53oqbHztwdw - nsmtp'\n",
      "send: 'rcpt TO:<rlahatnr@gmail.com>\\r\\n'\n",
      "reply: b'250 2.1.5 OK EKm0WDFiTBu53oqbHztwdw - nsmtp\\r\\n'\n",
      "reply: retcode (250); Msg: b'2.1.5 OK EKm0WDFiTBu53oqbHztwdw - nsmtp'\n",
      "send: 'data\\r\\n'\n",
      "reply: b'354 Go ahead EKm0WDFiTBu53oqbHztwdw - nsmtp\\r\\n'\n",
      "reply: retcode (354); Msg: b'Go ahead EKm0WDFiTBu53oqbHztwdw - nsmtp'\n",
      "data: (354, b'Go ahead EKm0WDFiTBu53oqbHztwdw - nsmtp')\n",
      "send: b'MIME-Version: 1.0\\r\\nContent-Type: multipart/alternative; charset=\"utf-8\"; boundary=\"===============7672502256116131251==\"\\r\\nContent-Transfer-Encoding: base64\\r\\nFrom: crowdparti@naver.com\\r\\nTo: rlahatnr@gmail.com\\r\\nSubject: test\\r\\n\\r\\n--===============7672502256116131251==\\r\\nContent-Type: text/plain; charset=\"utf-8\"\\r\\nMIME-Version: 1.0\\r\\nContent-Transfer-Encoding: base64\\r\\n\\r\\nc2V0c2V0c2UKc2V0ZXN0c2V0cw==\\r\\n\\r\\n--===============7672502256116131251==--\\r\\n.\\r\\n'\n",
      "reply: b'250 2.0.0 OK EKm0WDFiTBu53oqbHztwdw - nsmtp\\r\\n'\n",
      "reply: retcode (250); Msg: b'2.0.0 OK EKm0WDFiTBu53oqbHztwdw - nsmtp'\n",
      "data: (250, b'2.0.0 OK EKm0WDFiTBu53oqbHztwdw - nsmtp')\n",
      "send: 'quit\\r\\n'\n",
      "reply: b'221 2.0.0 Closing connection EKm0WDFiTBu53oqbHztwdw - nsmtp\\r\\n'\n",
      "reply: retcode (221); Msg: b'2.0.0 Closing connection EKm0WDFiTBu53oqbHztwdw - nsmtp'\n"
     ]
    },
    {
     "name": "stdout",
     "output_type": "stream",
     "text": [
      "Successfully sent the mail\n"
     ]
    },
    {
     "ename": "SystemExit",
     "evalue": "0",
     "output_type": "error",
     "traceback": [
      "An exception has occurred, use %tb to see the full traceback.\n",
      "\u001b[1;31mSystemExit\u001b[0m\u001b[1;31m:\u001b[0m 0\n"
     ]
    },
    {
     "name": "stderr",
     "output_type": "stream",
     "text": [
      "C:\\Users\\crowdparti\\anaconda3\\lib\\site-packages\\IPython\\core\\interactiveshell.py:3426: UserWarning: To exit: use 'exit', 'quit', or Ctrl-D.\n",
      "  warn(\"To exit: use 'exit', 'quit', or Ctrl-D.\", stacklevel=1)\n"
     ]
    }
   ],
   "source": [
    "from PyQt5.QtWidgets import QMainWindow, QApplication\n",
    "from PyQt5.QtCore import QThread\n",
    "from main_ui import Ui_MainWindow\n",
    "import sys\n",
    "import os\n",
    "import pandas as pd\n",
    "\n",
    "import smtplib\n",
    "from email import encoders\n",
    "from email.utils import formataddr\n",
    "from email.mime.base import MIMEBase\n",
    "from email.mime.text import MIMEText\n",
    "from email.mime.multipart import MIMEMultipart\n",
    "\n",
    "class MainWindow(QMainWindow, Ui_MainWindow):\n",
    "    def __init__(self):\n",
    "        super(MainWindow, self).__init__()\n",
    "        self.setupUi(self)\n",
    "\n",
    "        self.pushButton_3.clicked.connect(self.send_mails)\n",
    "\n",
    "    def send_mails(self):\n",
    "        file = pd.read_excel('mails.xlsx')\n",
    "        try:\n",
    "            for i in file.mails:\n",
    "                send_id = 'crowdparti@naver.com'\n",
    "                send_pwd = 'eoqkr2021$!$!'\n",
    "                context = self.plainTextEdit.toPlainText()\n",
    "\n",
    "                smtp = smtplib.SMTP('smtp.naver.com', 587)\n",
    "                smtp.set_debuglevel(True)\n",
    "                smtp.starttls()\n",
    "                smtp.login(send_id, send_pwd)\n",
    "\n",
    "                msg = MIMEMultipart('alternative')\n",
    "                msg.set_charset('utf-8')\n",
    "                msg['From'] = send_id\n",
    "                msg['To'] = i\n",
    "                msg['Subject'] = self.lineEdit_3.text()\n",
    "\n",
    "                bodyPart = MIMEText(context, 'plain', 'utf-8')\n",
    "                msg.attach(bodyPart)\n",
    "                smtp.sendmail(send_id, i, msg.as_string())\n",
    "                print('Successfully sent the mail')\n",
    "        except Exception as e:\n",
    "            print(e)\n",
    "        finally:\n",
    "            if smtp is not None:\n",
    "                smtp.quit()\n",
    "if __name__=='__main__':\n",
    "    app = QApplication(sys.argv)\n",
    "    window = MainWindow()\n",
    "    window.show()\n",
    "    sys.exit(app.exec_())"
   ]
  },
  {
   "cell_type": "code",
   "execution_count": null,
   "metadata": {},
   "outputs": [],
   "source": []
  },
  {
   "cell_type": "code",
   "execution_count": null,
   "metadata": {},
   "outputs": [],
   "source": []
  }
 ],
 "metadata": {
  "kernelspec": {
   "display_name": "Python 3",
   "language": "python",
   "name": "python3"
  },
  "language_info": {
   "codemirror_mode": {
    "name": "ipython",
    "version": 3
   },
   "file_extension": ".py",
   "mimetype": "text/x-python",
   "name": "python",
   "nbconvert_exporter": "python",
   "pygments_lexer": "ipython3",
   "version": "3.8.5"
  }
 },
 "nbformat": 4,
 "nbformat_minor": 4
}
